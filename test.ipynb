{
 "cells": [
  {
   "cell_type": "code",
   "execution_count": 11,
   "metadata": {},
   "outputs": [],
   "source": [
    "import os\n",
    "\n",
    "import mysql.connector\n",
    "# from mysql import connector\n",
    "from dotenv import load_dotenv\n",
    "import pandas as pd"
   ]
  },
  {
   "cell_type": "code",
   "execution_count": 2,
   "metadata": {},
   "outputs": [],
   "source": [
    "load_dotenv()\n",
    "\n",
    "# print(os.getenv('USER'))\n",
    "user = os.getenv('USER')\n",
    "password = os.getenv('PASSWORD')\n",
    "host = os.getenv('HOST')\n",
    "database = 'swiftmarket'"
   ]
  },
  {
   "cell_type": "code",
   "execution_count": 5,
   "metadata": {},
   "outputs": [],
   "source": [
    "connection = mysql.connector.connect(user=user,\n",
    "                                     password=password,\n",
    "                                     host=host,\n",
    "                                     database=database )\n",
    "cursor = connection.cursor()"
   ]
  },
  {
   "cell_type": "code",
   "execution_count": 6,
   "metadata": {},
   "outputs": [
    {
     "data": {
      "text/plain": [
       "True"
      ]
     },
     "execution_count": 6,
     "metadata": {},
     "output_type": "execute_result"
    }
   ],
   "source": [
    "connection.is_connected()"
   ]
  },
  {
   "cell_type": "code",
   "execution_count": 7,
   "metadata": {},
   "outputs": [
    {
     "name": "stdout",
     "output_type": "stream",
     "text": [
      "('categories',)\n",
      "('customers',)\n",
      "('employees',)\n",
      "('salesdata',)\n",
      "('subcategories',)\n",
      "('suppliers',)\n"
     ]
    }
   ],
   "source": [
    "query = '''show tables'''\n",
    "cursor.execute(query)\n",
    "rows = cursor.fetchall()\n",
    "for row in rows:\n",
    "    print(row)"
   ]
  },
  {
   "cell_type": "code",
   "execution_count": 8,
   "metadata": {},
   "outputs": [
    {
     "name": "stdout",
     "output_type": "stream",
     "text": [
      "(23000, 'C-2023-100-12', 6002, 1100, datetime.date(2023, 5, 2), 2, Decimal('176432.00'))\n",
      "(23001, 'C-2023-100-141', 6029, 1115, datetime.date(2023, 12, 26), 2, Decimal('47172.00'))\n",
      "(23002, 'C-2023-100-86', 6029, 1035, datetime.date(2023, 3, 26), 2, Decimal('47172.00'))\n",
      "(23003, 'C-2023-100-72', 6006, 1016, datetime.date(2023, 8, 1), 2, Decimal('117644.00'))\n",
      "(23004, 'C-2023-100-142', 6030, 1067, datetime.date(2023, 3, 6), 5, Decimal('336560.00'))\n"
     ]
    }
   ],
   "source": [
    "# dimension tables: all tables contianing primary keys and connected to fact table\n",
    "# fact table: e.g sales data\n",
    "\n",
    "\n",
    "query = '''select * from salesdata limit 5;'''\n",
    "cursor.execute(query)\n",
    "rows = cursor.fetchall()\n",
    "for row in rows:\n",
    "    print(row)"
   ]
  },
  {
   "cell_type": "code",
   "execution_count": 9,
   "metadata": {},
   "outputs": [
    {
     "data": {
      "text/plain": [
       "('SaleID',\n",
       " 'CustomerID',\n",
       " 'SubcatID',\n",
       " 'EmployeeID',\n",
       " 'SaleDate',\n",
       " 'Quantity',\n",
       " 'TotalPrice')"
      ]
     },
     "execution_count": 9,
     "metadata": {},
     "output_type": "execute_result"
    }
   ],
   "source": [
    "cursor.column_names\n"
   ]
  },
  {
   "cell_type": "code",
   "execution_count": 13,
   "metadata": {},
   "outputs": [
    {
     "data": {
      "text/html": [
       "<div>\n",
       "<style scoped>\n",
       "    .dataframe tbody tr th:only-of-type {\n",
       "        vertical-align: middle;\n",
       "    }\n",
       "\n",
       "    .dataframe tbody tr th {\n",
       "        vertical-align: top;\n",
       "    }\n",
       "\n",
       "    .dataframe thead th {\n",
       "        text-align: right;\n",
       "    }\n",
       "</style>\n",
       "<table border=\"1\" class=\"dataframe\">\n",
       "  <thead>\n",
       "    <tr style=\"text-align: right;\">\n",
       "      <th></th>\n",
       "      <th>SaleID</th>\n",
       "      <th>CustomerID</th>\n",
       "      <th>SubcatID</th>\n",
       "      <th>EmployeeID</th>\n",
       "      <th>SaleDate</th>\n",
       "      <th>Quantity</th>\n",
       "      <th>TotalPrice</th>\n",
       "    </tr>\n",
       "  </thead>\n",
       "  <tbody>\n",
       "    <tr>\n",
       "      <th>0</th>\n",
       "      <td>23000</td>\n",
       "      <td>C-2023-100-12</td>\n",
       "      <td>6002</td>\n",
       "      <td>1100</td>\n",
       "      <td>2023-05-02</td>\n",
       "      <td>2</td>\n",
       "      <td>176432.00</td>\n",
       "    </tr>\n",
       "    <tr>\n",
       "      <th>1</th>\n",
       "      <td>23001</td>\n",
       "      <td>C-2023-100-141</td>\n",
       "      <td>6029</td>\n",
       "      <td>1115</td>\n",
       "      <td>2023-12-26</td>\n",
       "      <td>2</td>\n",
       "      <td>47172.00</td>\n",
       "    </tr>\n",
       "    <tr>\n",
       "      <th>2</th>\n",
       "      <td>23002</td>\n",
       "      <td>C-2023-100-86</td>\n",
       "      <td>6029</td>\n",
       "      <td>1035</td>\n",
       "      <td>2023-03-26</td>\n",
       "      <td>2</td>\n",
       "      <td>47172.00</td>\n",
       "    </tr>\n",
       "    <tr>\n",
       "      <th>3</th>\n",
       "      <td>23003</td>\n",
       "      <td>C-2023-100-72</td>\n",
       "      <td>6006</td>\n",
       "      <td>1016</td>\n",
       "      <td>2023-08-01</td>\n",
       "      <td>2</td>\n",
       "      <td>117644.00</td>\n",
       "    </tr>\n",
       "    <tr>\n",
       "      <th>4</th>\n",
       "      <td>23004</td>\n",
       "      <td>C-2023-100-142</td>\n",
       "      <td>6030</td>\n",
       "      <td>1067</td>\n",
       "      <td>2023-03-06</td>\n",
       "      <td>5</td>\n",
       "      <td>336560.00</td>\n",
       "    </tr>\n",
       "  </tbody>\n",
       "</table>\n",
       "</div>"
      ],
      "text/plain": [
       "   SaleID      CustomerID  SubcatID  EmployeeID    SaleDate  Quantity  \\\n",
       "0   23000   C-2023-100-12      6002        1100  2023-05-02         2   \n",
       "1   23001  C-2023-100-141      6029        1115  2023-12-26         2   \n",
       "2   23002   C-2023-100-86      6029        1035  2023-03-26         2   \n",
       "3   23003   C-2023-100-72      6006        1016  2023-08-01         2   \n",
       "4   23004  C-2023-100-142      6030        1067  2023-03-06         5   \n",
       "\n",
       "  TotalPrice  \n",
       "0  176432.00  \n",
       "1   47172.00  \n",
       "2   47172.00  \n",
       "3  117644.00  \n",
       "4  336560.00  "
      ]
     },
     "execution_count": 13,
     "metadata": {},
     "output_type": "execute_result"
    }
   ],
   "source": [
    "pd.DataFrame(data=rows, columns=cursor.column_names)"
   ]
  },
  {
   "cell_type": "code",
   "execution_count": 14,
   "metadata": {},
   "outputs": [],
   "source": [
    "def read_query(query):\n",
    "    cursor.execute(query)\n",
    "    rows = cursor.fetchall()\n",
    "    return pd.DataFrame(data=rows, columns=cursor.column_names)"
   ]
  },
  {
   "cell_type": "code",
   "execution_count": 17,
   "metadata": {},
   "outputs": [
    {
     "data": {
      "text/html": [
       "<div>\n",
       "<style scoped>\n",
       "    .dataframe tbody tr th:only-of-type {\n",
       "        vertical-align: middle;\n",
       "    }\n",
       "\n",
       "    .dataframe tbody tr th {\n",
       "        vertical-align: top;\n",
       "    }\n",
       "\n",
       "    .dataframe thead th {\n",
       "        text-align: right;\n",
       "    }\n",
       "</style>\n",
       "<table border=\"1\" class=\"dataframe\">\n",
       "  <thead>\n",
       "    <tr style=\"text-align: right;\">\n",
       "      <th></th>\n",
       "      <th>CustomerID</th>\n",
       "      <th>FirstName</th>\n",
       "      <th>LastName</th>\n",
       "      <th>Email</th>\n",
       "      <th>Phone</th>\n",
       "      <th>Address</th>\n",
       "      <th>State</th>\n",
       "    </tr>\n",
       "  </thead>\n",
       "  <tbody>\n",
       "    <tr>\n",
       "      <th>0</th>\n",
       "      <td>C-2023-100-1</td>\n",
       "      <td>Mahika</td>\n",
       "      <td>Sunder</td>\n",
       "      <td>MahikaSunder_11@zmail.com</td>\n",
       "      <td>03412176590</td>\n",
       "      <td>H.No. 155, Chana</td>\n",
       "      <td>Assam</td>\n",
       "    </tr>\n",
       "    <tr>\n",
       "      <th>1</th>\n",
       "      <td>C-2023-100-10</td>\n",
       "      <td>Zeeshan</td>\n",
       "      <td>Vasa</td>\n",
       "      <td>ZeeshanVasa_1@zmail.com</td>\n",
       "      <td>+911151051656</td>\n",
       "      <td>52, Roy Nagar</td>\n",
       "      <td>Tripura</td>\n",
       "    </tr>\n",
       "    <tr>\n",
       "      <th>2</th>\n",
       "      <td>C-2023-100-100</td>\n",
       "      <td>Aaina</td>\n",
       "      <td>Sachdeva</td>\n",
       "      <td>AainaSachdeva_9@zmail.com</td>\n",
       "      <td>+918834507719</td>\n",
       "      <td>75/92, Kade Marg</td>\n",
       "      <td>Nagaland</td>\n",
       "    </tr>\n",
       "    <tr>\n",
       "      <th>3</th>\n",
       "      <td>C-2023-100-101</td>\n",
       "      <td>Shray</td>\n",
       "      <td>Bajwa</td>\n",
       "      <td>ShrayBajwa_11@zmail.com</td>\n",
       "      <td>07410498662</td>\n",
       "      <td>45, Bora Ganj</td>\n",
       "      <td>Manipur</td>\n",
       "    </tr>\n",
       "    <tr>\n",
       "      <th>4</th>\n",
       "      <td>C-2023-100-102</td>\n",
       "      <td>Navya</td>\n",
       "      <td>Dash</td>\n",
       "      <td>NavyaDash_5@zmail.com</td>\n",
       "      <td>+917644200850</td>\n",
       "      <td>70/782\\nBahl Road</td>\n",
       "      <td>Kerala</td>\n",
       "    </tr>\n",
       "  </tbody>\n",
       "</table>\n",
       "</div>"
      ],
      "text/plain": [
       "       CustomerID FirstName  LastName                      Email  \\\n",
       "0    C-2023-100-1    Mahika    Sunder  MahikaSunder_11@zmail.com   \n",
       "1   C-2023-100-10   Zeeshan      Vasa    ZeeshanVasa_1@zmail.com   \n",
       "2  C-2023-100-100     Aaina  Sachdeva  AainaSachdeva_9@zmail.com   \n",
       "3  C-2023-100-101     Shray     Bajwa    ShrayBajwa_11@zmail.com   \n",
       "4  C-2023-100-102     Navya      Dash      NavyaDash_5@zmail.com   \n",
       "\n",
       "           Phone            Address     State  \n",
       "0    03412176590   H.No. 155, Chana     Assam  \n",
       "1  +911151051656      52, Roy Nagar   Tripura  \n",
       "2  +918834507719   75/92, Kade Marg  Nagaland  \n",
       "3    07410498662      45, Bora Ganj   Manipur  \n",
       "4  +917644200850  70/782\\nBahl Road    Kerala  "
      ]
     },
     "execution_count": 17,
     "metadata": {},
     "output_type": "execute_result"
    }
   ],
   "source": [
    "query = '''select * from customers limit 5;'''\n",
    "read_query(query)"
   ]
  },
  {
   "cell_type": "code",
   "execution_count": 19,
   "metadata": {},
   "outputs": [
    {
     "data": {
      "text/html": [
       "<div>\n",
       "<style scoped>\n",
       "    .dataframe tbody tr th:only-of-type {\n",
       "        vertical-align: middle;\n",
       "    }\n",
       "\n",
       "    .dataframe tbody tr th {\n",
       "        vertical-align: top;\n",
       "    }\n",
       "\n",
       "    .dataframe thead th {\n",
       "        text-align: right;\n",
       "    }\n",
       "</style>\n",
       "<table border=\"1\" class=\"dataframe\">\n",
       "  <thead>\n",
       "    <tr style=\"text-align: right;\">\n",
       "      <th></th>\n",
       "      <th>saledate</th>\n",
       "      <th>firstname</th>\n",
       "      <th>totalprice</th>\n",
       "    </tr>\n",
       "  </thead>\n",
       "  <tbody>\n",
       "    <tr>\n",
       "      <th>0</th>\n",
       "      <td>2023-01-01</td>\n",
       "      <td>Miraan</td>\n",
       "      <td>8630.00</td>\n",
       "    </tr>\n",
       "    <tr>\n",
       "      <th>1</th>\n",
       "      <td>2023-01-01</td>\n",
       "      <td>Eva</td>\n",
       "      <td>159724.00</td>\n",
       "    </tr>\n",
       "    <tr>\n",
       "      <th>2</th>\n",
       "      <td>2023-01-01</td>\n",
       "      <td>Kashvi</td>\n",
       "      <td>139084.00</td>\n",
       "    </tr>\n",
       "    <tr>\n",
       "      <th>3</th>\n",
       "      <td>2023-01-01</td>\n",
       "      <td>Shalv</td>\n",
       "      <td>208626.00</td>\n",
       "    </tr>\n",
       "    <tr>\n",
       "      <th>4</th>\n",
       "      <td>2023-01-01</td>\n",
       "      <td>Heer</td>\n",
       "      <td>79387.00</td>\n",
       "    </tr>\n",
       "    <tr>\n",
       "      <th>...</th>\n",
       "      <td>...</td>\n",
       "      <td>...</td>\n",
       "      <td>...</td>\n",
       "    </tr>\n",
       "    <tr>\n",
       "      <th>11996</th>\n",
       "      <td>2023-12-30</td>\n",
       "      <td>Azad</td>\n",
       "      <td>111075.00</td>\n",
       "    </tr>\n",
       "    <tr>\n",
       "      <th>11997</th>\n",
       "      <td>2023-12-30</td>\n",
       "      <td>Vidur</td>\n",
       "      <td>58785.00</td>\n",
       "    </tr>\n",
       "    <tr>\n",
       "      <th>11998</th>\n",
       "      <td>2023-12-30</td>\n",
       "      <td>Reyansh</td>\n",
       "      <td>9599.00</td>\n",
       "    </tr>\n",
       "    <tr>\n",
       "      <th>11999</th>\n",
       "      <td>2023-12-30</td>\n",
       "      <td>Sahil</td>\n",
       "      <td>99402.00</td>\n",
       "    </tr>\n",
       "    <tr>\n",
       "      <th>12000</th>\n",
       "      <td>2023-12-30</td>\n",
       "      <td>Inaaya</td>\n",
       "      <td>340156.00</td>\n",
       "    </tr>\n",
       "  </tbody>\n",
       "</table>\n",
       "<p>12001 rows × 3 columns</p>\n",
       "</div>"
      ],
      "text/plain": [
       "         saledate firstname totalprice\n",
       "0      2023-01-01    Miraan    8630.00\n",
       "1      2023-01-01       Eva  159724.00\n",
       "2      2023-01-01    Kashvi  139084.00\n",
       "3      2023-01-01     Shalv  208626.00\n",
       "4      2023-01-01      Heer   79387.00\n",
       "...           ...       ...        ...\n",
       "11996  2023-12-30      Azad  111075.00\n",
       "11997  2023-12-30     Vidur   58785.00\n",
       "11998  2023-12-30   Reyansh    9599.00\n",
       "11999  2023-12-30     Sahil   99402.00\n",
       "12000  2023-12-30   Inaaya   340156.00\n",
       "\n",
       "[12001 rows x 3 columns]"
      ]
     },
     "execution_count": 19,
     "metadata": {},
     "output_type": "execute_result"
    }
   ],
   "source": [
    "query = '''select s.saledate,c.firstname,s.totalprice\n",
    "from salesdata s\n",
    "join customers c\n",
    "on s.customerid=c.customerid\n",
    "order by s.saledate;'''\n",
    "read_query(query)"
   ]
  },
  {
   "cell_type": "code",
   "execution_count": null,
   "metadata": {},
   "outputs": [],
   "source": []
  }
 ],
 "metadata": {
  "kernelspec": {
   "display_name": "wk1000",
   "language": "python",
   "name": "python3"
  },
  "language_info": {
   "codemirror_mode": {
    "name": "ipython",
    "version": 3
   },
   "file_extension": ".py",
   "mimetype": "text/x-python",
   "name": "python",
   "nbconvert_exporter": "python",
   "pygments_lexer": "ipython3",
   "version": "3.11.8"
  }
 },
 "nbformat": 4,
 "nbformat_minor": 2
}
